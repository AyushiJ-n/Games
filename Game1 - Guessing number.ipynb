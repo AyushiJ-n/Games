{
 "cells": [
  {
   "cell_type": "markdown",
   "id": "9df4e796",
   "metadata": {},
   "source": [
    "# Guessing number game"
   ]
  },
  {
   "cell_type": "code",
   "execution_count": 4,
   "id": "2f606e5f",
   "metadata": {},
   "outputs": [
    {
     "name": "stdout",
     "output_type": "stream",
     "text": [
      "--------------Game : Guess the number----------------\n",
      "\n",
      "Rules of the game\n",
      "1)You have some guesses to guess the number\n",
      "2)You will get hints after each attempt\n",
      "\n",
      "Select a range of your choice, the ans will lie in between the range\n",
      "\n",
      "Warning : You must keep range at least greater than 100\n",
      "Enter lower number of range : 0\n",
      "Enter upper number of range : \n",
      "100\n",
      "Let's start the guessing game.\n",
      "\n",
      "Guess the number between 0 and 100 \n",
      "\n",
      "Total allowed guesses :  7\n",
      "50\n",
      "\n",
      "HINT : You guessed it too low\n",
      "Remaining guesses :  6\n",
      "75\n",
      "\n",
      "HINT : You guessed it too high\n",
      "Remaining guesses :  5\n",
      "60\n",
      "\n",
      "HINT : You guessed it too low\n",
      "Remaining guesses :  4\n",
      "68\n",
      "\n",
      "HINT : You guessed it too high\n",
      "Remaining guesses :  3\n",
      "64\n",
      "\n",
      "HINT : You guessed it too low\n",
      "Remaining guesses :  2\n",
      "66\n",
      "You won\n"
     ]
    }
   ],
   "source": [
    "# Introduction to game\n",
    "print(\"--------------Game : Guess the number----------------\\n\")\n",
    "print(\"Rules of the game\")\n",
    "print(\"1)You have some guesses to guess the number\")\n",
    "print(\"2)You will get hints after each attempt\\n\")\n",
    "\n",
    "print(\"Select a range of your choice, the ans will lie in between the range\\n\")\n",
    "\n",
    "print(\"Warning : You must keep range at least greater than 100\")\n",
    "\n",
    "# Taking range from user\n",
    "import random\n",
    "import math\n",
    "\n",
    "lower = int(input(\"Enter lower number of range : \"))\n",
    "upper = int(input(\"Enter upper number of range : \\n\"))\n",
    "\n",
    "# Verifying given range\n",
    "if upper-lower<100:\n",
    "    print(\"You cheated\\n\")\n",
    "    print(\"Better Luck Next Time !\")\n",
    "else:\n",
    "    print(\"Let's start the guessing game.\\n\")\n",
    "    print(\"Guess the number between\", lower, 'and', upper,\"\\n\")\n",
    "\n",
    "# Answer to  the game\n",
    "    ans = random.randrange(lower,upper)\n",
    "    count = 0\n",
    "    limit = round(math.log((upper-lower + 1),2))\n",
    "    print(\"Total allowed guesses : \", limit)\n",
    "# Playing the game\n",
    "    while count!=limit :\n",
    "        user_ans = int(input())\n",
    "        if user_ans == ans:\n",
    "            print(\"You won\")\n",
    "            break\n",
    "        elif user_ans > ans:\n",
    "            print(\"\\nHINT : You guessed it too high\")\n",
    "        else:\n",
    "            print(\"\\nHINT : You guessed it too low\")\n",
    "        count+=1\n",
    "        print(\"Remaining guesses : \", limit-count)\n",
    "\n",
    "\n",
    "    if ans!=user_ans:\n",
    "        print(\"\\nThe number is \", ans)\n",
    "        print(\"\\nBetter Luck Next Time !\")"
   ]
  },
  {
   "cell_type": "code",
   "execution_count": null,
   "id": "c4132664",
   "metadata": {},
   "outputs": [],
   "source": []
  }
 ],
 "metadata": {
  "kernelspec": {
   "display_name": "Python 3 (ipykernel)",
   "language": "python",
   "name": "python3"
  },
  "language_info": {
   "codemirror_mode": {
    "name": "ipython",
    "version": 3
   },
   "file_extension": ".py",
   "mimetype": "text/x-python",
   "name": "python",
   "nbconvert_exporter": "python",
   "pygments_lexer": "ipython3",
   "version": "3.10.9"
  }
 },
 "nbformat": 4,
 "nbformat_minor": 5
}
